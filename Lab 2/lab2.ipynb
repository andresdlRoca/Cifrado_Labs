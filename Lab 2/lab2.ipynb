{
 "cells": [
  {
   "cell_type": "markdown",
   "metadata": {},
   "source": [
    "# Laboratorio 2 - Base64 y XOR\n",
    "\n",
    "## Universidad del Valle de Guatemala\n",
    "## Cifrado de Información\n",
    "\n",
    "Andrés de la Roca - 20332"
   ]
  },
  {
   "cell_type": "markdown",
   "metadata": {},
   "source": [
    "Implementar una función para convertir una cadena de caracteres a bits. Por cada carácter de la cadena encontrar la represencación en bytes  (8 bits) del valor ASCII de dicho carácter. La función debe de devolver la concatenación de todos los bits de la cadena. "
   ]
  },
  {
   "cell_type": "code",
   "execution_count": null,
   "metadata": {},
   "outputs": [],
   "source": [
    "def string_to_bits(s):\n",
    "    return ''.join(format(ord(c), '08b') for c in s)"
   ]
  },
  {
   "cell_type": "markdown",
   "metadata": {},
   "source": [
    "2 ejemplos sencillos de convertir cadenas a bytes"
   ]
  },
  {
   "cell_type": "markdown",
   "metadata": {},
   "source": [
    "1. sol\n",
    "2. hola"
   ]
  },
  {
   "cell_type": "code",
   "execution_count": null,
   "metadata": {},
   "outputs": [],
   "source": [
    "ejemplo1 = string_to_bits(\"sol\")\n",
    "print(ejemplo1)\n",
    "\n",
    "ejemplo2 = string_to_bits(\"hola\")\n",
    "print(ejemplo2)"
   ]
  }
 ],
 "metadata": {
  "language_info": {
   "name": "python"
  }
 },
 "nbformat": 4,
 "nbformat_minor": 2
}
