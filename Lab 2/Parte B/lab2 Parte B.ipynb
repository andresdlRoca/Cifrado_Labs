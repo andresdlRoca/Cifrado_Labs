{
 "cells": [
  {
   "cell_type": "markdown",
   "metadata": {},
   "source": [
    "# Laboratorio 2 Parte B - Base64 y XOR\n",
    "## Universidad del Valle de Guatemala\n",
    "## Cifrado de información\n",
    "\n",
    "Andrés de la Roca - 20332"
   ]
  },
  {
   "cell_type": "markdown",
   "metadata": {},
   "source": [
    "#### Ejercicio 5\n",
    "Implementar una función que haga la operación XOR, bit a bit, con dos cadenas de texto.\n",
    "\n",
    "- Recuerde que la llave debe ser de menor o igual tamaño que la palabra\n",
    "- Si en dado caso la llave es menor complementarla para llegar al mismo tamaño\n"
   ]
  },
  {
   "cell_type": "code",
   "execution_count": null,
   "metadata": {},
   "outputs": [],
   "source": []
  },
  {
   "cell_type": "markdown",
   "metadata": {},
   "source": [
    "#### Ejercicio 6\n",
    "Dada la imagen XOR_Imagen, y la llave “cifrados” encontrar el valor original de la imagen.\n",
    "- Deben de conver9r la imagen a base 64 y aplicarle un xor con la llave “cifrados para encontrar su valor”"
   ]
  },
  {
   "cell_type": "code",
   "execution_count": null,
   "metadata": {},
   "outputs": [],
   "source": []
  },
  {
   "cell_type": "markdown",
   "metadata": {},
   "source": [
    "#### Ejercicio 7\n",
    "Investigar porque al aplicar XOR con una llave de texto la imagén se corrompe."
   ]
  },
  {
   "cell_type": "markdown",
   "metadata": {},
   "source": [
    "R/. "
   ]
  },
  {
   "cell_type": "markdown",
   "metadata": {},
   "source": [
    "#### Ejercicio 8\n",
    "Investigar como aplicar un xor a 2 imagnes. Para esto deben de eleccionar 2 imágenes, luego proceder hacer un xor entre las dos imágenes. Esto significa que una imagen es la original y la otra se utilizará como llave para aplicar el xor.\n",
    "- Mostrar las imágenes u9lizadas y el resultado, asi mismo explique que inconvenientes encontro al momento de realizar el xor."
   ]
  }
 ],
 "metadata": {
  "language_info": {
   "name": "python"
  }
 },
 "nbformat": 4,
 "nbformat_minor": 2
}
