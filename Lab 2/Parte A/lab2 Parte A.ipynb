{
 "cells": [
  {
   "cell_type": "markdown",
   "metadata": {},
   "source": [
    "# Laboratorio 2 Parte A - Base64 y XOR\n",
    "\n",
    "## Universidad del Valle de Guatemala\n",
    "## Cifrado de Información\n",
    "\n",
    "Andrés de la Roca - 20332"
   ]
  },
  {
   "cell_type": "markdown",
   "metadata": {},
   "source": [
    "#### Ejercicio 1\n",
    "Implementar una función para convertir una cadena de caracteres a bits. Por cada carácter de la cadena encontrar la represencación en bytes  (8 bits) del valor ASCII de dicho carácter. La función debe de devolver la concatenación de todos los bits de la cadena. "
   ]
  },
  {
   "cell_type": "code",
   "execution_count": 41,
   "metadata": {},
   "outputs": [],
   "source": [
    "def string_to_bits(s):\n",
    "    return ''.join(format(ord(c), '08b') for c in s)"
   ]
  },
  {
   "cell_type": "markdown",
   "metadata": {},
   "source": [
    "Ejemplos:\n",
    "1. sol\n",
    "2. hola"
   ]
  },
  {
   "cell_type": "code",
   "execution_count": 42,
   "metadata": {},
   "outputs": [
    {
     "name": "stdout",
     "output_type": "stream",
     "text": [
      "011100110110111101101100\n",
      "01101000011011110110110001100001\n"
     ]
    }
   ],
   "source": [
    "ejemplo1 = string_to_bits(\"sol\")\n",
    "print(ejemplo1)\n",
    "\n",
    "ejemplo2 = string_to_bits(\"hola\")\n",
    "print(ejemplo2)"
   ]
  },
  {
   "cell_type": "markdown",
   "metadata": {},
   "source": [
    "ascii -> octeto -> binario  \n",
    "\n",
    "s -> 115 -> 01110011  \n",
    "o -> 111 -> 01101111  \n",
    "l -> 108 -> 01101100  \n",
    "  \n",
    "  \n",
    "\n",
    "h -> 104 -> 01101000  \n",
    "o -> 111 -> 01101111  \n",
    "l -> 108 -> 01101100  \n",
    "a -> 97 -> 01100001  "
   ]
  },
  {
   "cell_type": "markdown",
   "metadata": {},
   "source": [
    "#### Ejercicio 2\n",
    "Implementar una función para convertir una cadena de bytes a caracteres. Por cada grupo de 8 bits  encontrar su representante correspondiente en ASCII. La función debe de devolver el texto correspondiente. "
   ]
  },
  {
   "cell_type": "code",
   "execution_count": 43,
   "metadata": {},
   "outputs": [],
   "source": [
    "def bits_to_string(b):\n",
    "    return ''.join(chr(int(b[i:i+8], 2)) for i in range(0, len(b), 8))"
   ]
  },
  {
   "cell_type": "markdown",
   "metadata": {},
   "source": [
    "Ejemplos:\n",
    "1. 011010000110000101110100\n",
    "2. 011000110110000101110100"
   ]
  },
  {
   "cell_type": "code",
   "execution_count": 44,
   "metadata": {},
   "outputs": [
    {
     "name": "stdout",
     "output_type": "stream",
     "text": [
      "hat\n",
      "cat\n"
     ]
    }
   ],
   "source": [
    "ejemplo1 = bits_to_string(\"011010000110000101110100\")\n",
    "print(ejemplo1)\n",
    "\n",
    "ejemplo2 = bits_to_string(\"011000110110000101110100\")\n",
    "print(ejemplo2)"
   ]
  },
  {
   "cell_type": "markdown",
   "metadata": {},
   "source": [
    "binario -> octeto -> ascii  \n",
    "\n",
    "01101000 -> 104 -> h  \n",
    "01100001 -> 97 -> a  \n",
    "01110100 -> 116 -> t  \n",
    "hat\n",
    "\n",
    "01100011 -> 99 -> c  \n",
    "01100001 -> 97 -> a  \n",
    "01110100 -> 116 -> t  \n",
    "cat\n",
    "\n",
    "\n"
   ]
  },
  {
   "cell_type": "markdown",
   "metadata": {},
   "source": [
    "#### Ejercicio 3\n",
    "Implementar funciones que permitan convertir una cadena de caracteres a Base64, para esto utilizar la conversión manual (texto a binario, binario a codigo UNICODE).  "
   ]
  },
  {
   "cell_type": "code",
   "execution_count": 45,
   "metadata": {},
   "outputs": [],
   "source": [
    "def binario_a_base64(bin_str):\n",
    "    base64_chars = \"ABCDEFGHIJKLMNOPQRSTUVWXYZabcdefghijklmnopqrstuvwxyz0123456789+/\"\n",
    "    padding = len(bin_str) % 6\n",
    "    if padding:\n",
    "        bin_str += (6 - padding) * '0'\n",
    "    base64_str = ''\n",
    "    for i in range(0, len(bin_str), 6):\n",
    "        base64_str += base64_chars[int(bin_str[i:i+6], 2)]\n",
    "    base64_str += (3 - len(bin_str) // 8 % 3) % 3 * '='\n",
    "    return base64_str\n"
   ]
  },
  {
   "cell_type": "code",
   "execution_count": 46,
   "metadata": {},
   "outputs": [],
   "source": [
    "def texto_a_base64(texto):\n",
    "    return binario_a_base64(string_to_bits(texto))"
   ]
  },
  {
   "cell_type": "markdown",
   "metadata": {},
   "source": [
    "Ejemplos:\n",
    "1. sol\n",
    "2. hola"
   ]
  },
  {
   "cell_type": "code",
   "execution_count": 47,
   "metadata": {},
   "outputs": [
    {
     "data": {
      "text/plain": [
       "'c29s'"
      ]
     },
     "execution_count": 47,
     "metadata": {},
     "output_type": "execute_result"
    }
   ],
   "source": [
    "texto_a_base64(\"sol\")"
   ]
  },
  {
   "cell_type": "code",
   "execution_count": 48,
   "metadata": {},
   "outputs": [
    {
     "data": {
      "text/plain": [
       "'aG9sYQ=='"
      ]
     },
     "execution_count": 48,
     "metadata": {},
     "output_type": "execute_result"
    }
   ],
   "source": [
    "texto_a_base64(\"hola\")"
   ]
  },
  {
   "cell_type": "markdown",
   "metadata": {},
   "source": [
    "ascii -> octeto -> binario  \n",
    "\n",
    "\n",
    "* sol:  \n",
    "s -> 115 -> 01110011  \n",
    "o -> 111 -> 01101111  \n",
    "l -> 108 -> 01101100  \n",
    "\n",
    "011100 110110 111101 101100    \n",
    "indices: 28 54 61 44  \n",
    "Caracteres en base64: c29s  \n",
    "  \n",
    "* hola:  \n",
    "h -> 104 -> 01101000  \n",
    "o -> 111 -> 01101111  \n",
    "l -> 108 -> 01101100  \n",
    "a -> 97 -> 01100001  \n",
    "\n",
    "011010 000110 111101 101100 011000 010000  \n",
    "indices: 26 6 61 44 24 16 = =  \n",
    "Caracteres en base64: aG9sYQ==  "
   ]
  },
  {
   "cell_type": "markdown",
   "metadata": {},
   "source": [
    "#### Ejercicio 4\n",
    "Implementar funciones que permitan convertir una cadena de base 64 a su texto correspondiente para esto utilizar la conversión manual (texto UNICODE a binario , binario a Codigos ASCII).  "
   ]
  },
  {
   "cell_type": "code",
   "execution_count": 50,
   "metadata": {},
   "outputs": [],
   "source": [
    "def base64_a_binario(base64_str):\n",
    "    base64_chars = \"ABCDEFGHIJKLMNOPQRSTUVWXYZabcdefghijklmnopqrstuvwxyz0123456789+/\"\n",
    "    bin_str = ''\n",
    "    for c in base64_str:\n",
    "        if c == '=':\n",
    "            break\n",
    "        bin_str += format(base64_chars.index(c), '06b')\n",
    "    return bin_str"
   ]
  },
  {
   "cell_type": "markdown",
   "metadata": {},
   "source": [
    "Ejemplos:\n",
    "1. Y2F0\n",
    "2. cmFw"
   ]
  },
  {
   "cell_type": "code",
   "execution_count": 57,
   "metadata": {},
   "outputs": [
    {
     "data": {
      "text/plain": [
       "'cat'"
      ]
     },
     "execution_count": 57,
     "metadata": {},
     "output_type": "execute_result"
    }
   ],
   "source": [
    "bits_to_string(base64_a_binario(\"Y2F0\"))"
   ]
  },
  {
   "cell_type": "code",
   "execution_count": 58,
   "metadata": {},
   "outputs": [
    {
     "data": {
      "text/plain": [
       "'rap'"
      ]
     },
     "execution_count": 58,
     "metadata": {},
     "output_type": "execute_result"
    }
   ],
   "source": [
    "bits_to_string(base64_a_binario(\"cmFw\"))"
   ]
  },
  {
   "cell_type": "markdown",
   "metadata": {},
   "source": [
    "base64 -> binario -> octeto -> ascii  \n",
    "\n",
    "* Y2F0 ->  \n",
    "Y -> 24 -> 011000  \n",
    "2 -> 54 -> 110110  \n",
    "F -> 5 -> 000101  \n",
    "0 -> 52 -> 110100  \n",
    "binario: 011000110110000101110100  \n",
    "ascii:  \n",
    "c <- 143 <- 01100011  \n",
    "a <- 141 <- 01100001  \n",
    "t <- 164 <- 01110100  \n",
    "r/. cat\n",
    "\n",
    "* cmFw ->  \n",
    "c -> 99 -> 011100  \n",
    "m -> 38 -> 100110    \n",
    "F -> 5 -> 000101   \n",
    "w -> 119 -> 110000  \n",
    "binario: 011100100110000101110000  \n",
    "ascii:  \n",
    "r <- 162 <- 01110010  \n",
    "a <- 141 <- 01100001  \n",
    "p <- 160 <- 01110000  \n",
    "r/. rap\n",
    "\n"
   ]
  }
 ],
 "metadata": {
  "kernelspec": {
   "display_name": "Python 3",
   "language": "python",
   "name": "python3"
  },
  "language_info": {
   "codemirror_mode": {
    "name": "ipython",
    "version": 3
   },
   "file_extension": ".py",
   "mimetype": "text/x-python",
   "name": "python",
   "nbconvert_exporter": "python",
   "pygments_lexer": "ipython3",
   "version": "3.10.11"
  }
 },
 "nbformat": 4,
 "nbformat_minor": 2
}
