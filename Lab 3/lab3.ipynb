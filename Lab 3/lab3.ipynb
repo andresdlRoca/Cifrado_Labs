{
 "cells": [
  {
   "cell_type": "markdown",
   "metadata": {},
   "source": [
    "# Laboratorio 3\n",
    "### Universidad del Valle de Guatemala\n",
    "### Cifrados de Información\n",
    "\n",
    "Andrés de la Roca - 20332"
   ]
  },
  {
   "cell_type": "markdown",
   "metadata": {},
   "source": [
    "### Problema 1"
   ]
  },
  {
   "cell_type": "code",
   "execution_count": 25,
   "metadata": {},
   "outputs": [],
   "source": [
    "import sys\n",
    "import cv2\n",
    "import numpy as np\n",
    "from Crypto.Util.Padding import pad, unpad\n",
    "from Crypto.Random import get_random_bytes\n",
    "from Crypto.Cipher import AES\n"
   ]
  },
  {
   "cell_type": "code",
   "execution_count": null,
   "metadata": {},
   "outputs": [],
   "source": [
    "imagen = cv2.imread('problema_1/ayno_encrypted-image.jpeg')\n",
    "row, column, depth = imagen.shape\n",
    "imagen_bytes = imagen.tobytes()\n",
    "\n",
    "key = b'02e9bf37e279e73aa93a3b0fc3bfed8f'\n",
    "cipher = AES.new(key, AES.MODE_ECB)\n",
    "ciphertext = cipher.decrypt(imagen_bytes)\n",
    "\n",
    "void = column * depth - AES.block_size\n",
    "ivCiphertextVoid = ciphertext + bytes(void)\n",
    "image_decrypted = np.frombuffer(ivCiphertextVoid, dtype = imagen.dtype).reshape(row, column, depth)\n",
    "\n",
    "cv2.imwrite('ayno_image_decrypted.jpeg', image_decrypted)"
   ]
  },
  {
   "cell_type": "markdown",
   "metadata": {},
   "source": [
    "### Problema 2"
   ]
  },
  {
   "cell_type": "code",
   "execution_count": null,
   "metadata": {},
   "outputs": [],
   "source": []
  }
 ],
 "metadata": {
  "kernelspec": {
   "display_name": "Python 3",
   "language": "python",
   "name": "python3"
  },
  "language_info": {
   "codemirror_mode": {
    "name": "ipython",
    "version": 3
   },
   "file_extension": ".py",
   "mimetype": "text/x-python",
   "name": "python",
   "nbconvert_exporter": "python",
   "pygments_lexer": "ipython3",
   "version": "3.10.11"
  }
 },
 "nbformat": 4,
 "nbformat_minor": 2
}
